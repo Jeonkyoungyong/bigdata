{
  "nbformat": 4,
  "nbformat_minor": 0,
  "metadata": {
    "colab": {
      "provenance": [],
      "authorship_tag": "ABX9TyMEbj4tO7IhD50noqrueDpH",
      "include_colab_link": true
    },
    "kernelspec": {
      "name": "python3",
      "display_name": "Python 3"
    },
    "language_info": {
      "name": "python"
    }
  },
  "cells": [
    {
      "cell_type": "markdown",
      "metadata": {
        "id": "view-in-github",
        "colab_type": "text"
      },
      "source": [
        "<a href=\"https://colab.research.google.com/github/Jeonkyoungyong/bigdata/blob/main/3%EC%A3%BC%EC%B0%A8_%EA%B3%BC%EC%A0%9C3_1_List_%ED%99%9C%EC%9A%A9%ED%95%98%EA%B8%B0.ipynb\" target=\"_parent\"><img src=\"https://colab.research.google.com/assets/colab-badge.svg\" alt=\"Open In Colab\"/></a>"
      ]
    },
    {
      "cell_type": "code",
      "execution_count": 1,
      "metadata": {
        "colab": {
          "base_uri": "https://localhost:8080/"
        },
        "id": "_eT1H23Q0WQO",
        "outputId": "d31d0212-40c4-46ed-c1e1-25485002272c"
      },
      "outputs": [
        {
          "output_type": "stream",
          "name": "stdout",
          "text": [
            "가장 길이가 짧은 문자열 : abc\n"
          ]
        }
      ],
      "source": [
        "s_list = ['abc', 'bcd', 'bcdefg', 'abba', 'cddc', 'opq']\n",
        "min_len = len(s_list[0])\n",
        "min_s = s_list[0]\n",
        "\n",
        "for s in s_list:\n",
        "  l = len(s)\n",
        "  if min_len > l:\n",
        "    min_len = l\n",
        "    min_s = s\n",
        "\n",
        "print('가장 길이가 짧은 문자열 :', min_s)\n"
      ]
    }
  ]
}