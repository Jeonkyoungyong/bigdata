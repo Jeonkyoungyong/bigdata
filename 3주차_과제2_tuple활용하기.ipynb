{
  "nbformat": 4,
  "nbformat_minor": 0,
  "metadata": {
    "colab": {
      "provenance": [],
      "authorship_tag": "ABX9TyMV3Ua6nN5dstGGmSCR7noM",
      "include_colab_link": true
    },
    "kernelspec": {
      "name": "python3",
      "display_name": "Python 3"
    },
    "language_info": {
      "name": "python"
    }
  },
  "cells": [
    {
      "cell_type": "markdown",
      "metadata": {
        "id": "view-in-github",
        "colab_type": "text"
      },
      "source": [
        "<a href=\"https://colab.research.google.com/github/Jeonkyoungyong/bigdata/blob/main/3%EC%A3%BC%EC%B0%A8_%EA%B3%BC%EC%A0%9C2_tuple%ED%99%9C%EC%9A%A9%ED%95%98%EA%B8%B0.ipynb\" target=\"_parent\"><img src=\"https://colab.research.google.com/assets/colab-badge.svg\" alt=\"Open In Colab\"/></a>"
      ]
    },
    {
      "cell_type": "code",
      "execution_count": 2,
      "metadata": {
        "colab": {
          "base_uri": "https://localhost:8080/"
        },
        "id": "ah2QIwMVhth9",
        "outputId": "141826b2-c4ef-4418-a8cd-cff882b0ce35"
      },
      "outputs": [
        {
          "output_type": "stream",
          "name": "stdout",
          "text": [
            "일일 매출 기록:  (100, 121, 120, 130, 140, 120, 122, 123, 190, 125)\n",
            "지난 10일 동안 전일 대비 매출이 감소한 날은 3일 입니다.\n"
          ]
        }
      ],
      "source": [
        "sales = (100, 121, 120, 130, 140, 120, 122, 123, 190, 125)\n",
        "drop = 0\n",
        "\n",
        "for i in range( len(sales)-1 ):\n",
        "  if sales[i] > sales[i+1]:\n",
        "    drop += 1\n",
        "\n",
        "print('일일 매출 기록: ', sales)\n",
        "print('지난 {}일 동안 전일 대비 매출이 감소한 날은 {}일 입니다.'.format(len(sales), drop))\n"
      ]
    }
  ]
}