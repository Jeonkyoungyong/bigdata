{
  "nbformat": 4,
  "nbformat_minor": 0,
  "metadata": {
    "colab": {
      "provenance": [],
      "authorship_tag": "ABX9TyO5cTpyBVaAPb5zEh7+XZHv",
      "include_colab_link": true
    },
    "kernelspec": {
      "name": "python3",
      "display_name": "Python 3"
    },
    "language_info": {
      "name": "python"
    }
  },
  "cells": [
    {
      "cell_type": "markdown",
      "metadata": {
        "id": "view-in-github",
        "colab_type": "text"
      },
      "source": [
        "<a href=\"https://colab.research.google.com/github/Jeonkyoungyong/bigdata/blob/main/3%EC%A3%BC%EC%B0%A8_%EA%B3%BC%EC%A0%9C3_2_List_%ED%99%9C%EC%9A%A9%ED%95%98%EA%B8%B0.ipynb\" target=\"_parent\"><img src=\"https://colab.research.google.com/assets/colab-badge.svg\" alt=\"Open In Colab\"/></a>"
      ]
    },
    {
      "cell_type": "code",
      "execution_count": 3,
      "metadata": {
        "colab": {
          "base_uri": "https://localhost:8080/"
        },
        "id": "_eT1H23Q0WQO",
        "outputId": "56a9cfec-8f82-4c15-ee26-99f19461febe"
      },
      "outputs": [
        {
          "output_type": "stream",
          "name": "stdout",
          "text": [
            "가장 길이가 짧은 문자열 : 'abc', 'bcd', 'opq'\n"
          ]
        }
      ],
      "source": [
        "s_list = ['abc', 'bcd', 'bcdefg', 'abba', 'cddc', 'opq']\n",
        "s_list.sort(key=len)\n",
        "group_list = []\n",
        "min_len = len(s_list[0])\n",
        "#print(s_list)\n",
        "\n",
        "for s in s_list:\n",
        "  if min_len == len(s):\n",
        "    group_list.append(s)\n",
        "\n",
        "print(\"가장 길이가 짧은 문자열 : '{}', '{}', '{}'\".format(group_list[0],group_list[1],group_list[2]))\n"
      ]
    }
  ]
}