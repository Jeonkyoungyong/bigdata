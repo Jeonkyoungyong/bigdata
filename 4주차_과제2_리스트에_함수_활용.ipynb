{
  "nbformat": 4,
  "nbformat_minor": 0,
  "metadata": {
    "colab": {
      "provenance": [],
      "authorship_tag": "ABX9TyNLMxHtmPYxPIwfEWt0EC7D",
      "include_colab_link": true
    },
    "kernelspec": {
      "name": "python3",
      "display_name": "Python 3"
    },
    "language_info": {
      "name": "python"
    }
  },
  "cells": [
    {
      "cell_type": "markdown",
      "metadata": {
        "id": "view-in-github",
        "colab_type": "text"
      },
      "source": [
        "<a href=\"https://colab.research.google.com/github/Jeonkyoungyong/bigdata/blob/Bigdata_4%EC%A3%BC%EC%B0%A8/4%EC%A3%BC%EC%B0%A8_%EA%B3%BC%EC%A0%9C2_%EB%A6%AC%EC%8A%A4%ED%8A%B8%EC%97%90_%ED%95%A8%EC%88%98_%ED%99%9C%EC%9A%A9.ipynb\" target=\"_parent\"><img src=\"https://colab.research.google.com/assets/colab-badge.svg\" alt=\"Open In Colab\"/></a>"
      ]
    },
    {
      "cell_type": "code",
      "source": [
        "def getMinAndMax(mylist):\n",
        "    min_value = mylist[0]\n",
        "    max_value = mylist[0]\n",
        "\n",
        "    for value in mylist:\n",
        "      if value > max_value:\n",
        "          max_value = value\n",
        "      if value < min_value:\n",
        "          min_value = value\n",
        "    return max_value, min_value\n",
        "\n",
        "list_data = [82, 27, 90, 30, 87, 56]\n",
        "print(list_data)\n",
        "print(getMinAndMax(mylist=list_data))\n"
      ],
      "metadata": {
        "colab": {
          "base_uri": "https://localhost:8080/"
        },
        "id": "6kpKhcQ64Qi7",
        "outputId": "cedb4a44-6201-4f35-86a3-a8e660f5fb6e"
      },
      "execution_count": 118,
      "outputs": [
        {
          "output_type": "stream",
          "name": "stdout",
          "text": [
            "[82, 27, 90, 30, 87, 56]\n",
            "(90, 27)\n"
          ]
        }
      ]
    }
  ]
}