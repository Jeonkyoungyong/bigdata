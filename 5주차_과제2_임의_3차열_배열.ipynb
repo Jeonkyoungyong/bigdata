{
  "nbformat": 4,
  "nbformat_minor": 0,
  "metadata": {
    "colab": {
      "provenance": [],
      "authorship_tag": "ABX9TyOX3aWrDkTdcUwySQUuawce",
      "include_colab_link": true
    },
    "kernelspec": {
      "name": "python3",
      "display_name": "Python 3"
    },
    "language_info": {
      "name": "python"
    }
  },
  "cells": [
    {
      "cell_type": "markdown",
      "metadata": {
        "id": "view-in-github",
        "colab_type": "text"
      },
      "source": [
        "<a href=\"https://colab.research.google.com/github/Jeonkyoungyong/bigdata/blob/main/5%EC%A3%BC%EC%B0%A8_%EA%B3%BC%EC%A0%9C2_%EC%9E%84%EC%9D%98_3%EC%B0%A8%EC%97%B4_%EB%B0%B0%EC%97%B4.ipynb\" target=\"_parent\"><img src=\"https://colab.research.google.com/assets/colab-badge.svg\" alt=\"Open In Colab\"/></a>"
      ]
    },
    {
      "cell_type": "code",
      "execution_count": 1,
      "metadata": {
        "colab": {
          "base_uri": "https://localhost:8080/"
        },
        "id": "dQ8WoqsLNC_h",
        "outputId": "3894bdd4-54f6-45b7-a399-f0e76b9e20f8"
      },
      "outputs": [
        {
          "output_type": "stream",
          "name": "stdout",
          "text": [
            "[[[16  8 16  3 19  2]\n",
            "  [ 0  5 12  6 15 12]\n",
            "  [17 20 17 10 17  1]]\n",
            "\n",
            " [[12  7 18  6 19 16]\n",
            "  [ 7 17 12  9  9 17]\n",
            "  [ 6  1 14  2 14  1]]\n",
            "\n",
            " [[19 19  2  5 14 19]\n",
            "  [ 6 12  4 12 12  4]\n",
            "  [ 9  1  6 12 13  4]]]\n"
          ]
        }
      ],
      "source": [
        "import numpy as np\n",
        "\n",
        "def random_int_generator(low, high):\n",
        "  return np.random.randint(low, high, size=(3, 3, 6))\n",
        "\n",
        "array = random_int_generator(0, 21)\n",
        "\n",
        "print(array)"
      ]
    },
    {
      "cell_type": "code",
      "source": [
        "import numpy as np\n",
        "\n",
        "def random_int_generator(low, high):\n",
        "  return np.random.randint(low, high, size=(5, 6))\n",
        "\n",
        "array = random_int_generator(0, 101)\n",
        "\n",
        "print(array)"
      ],
      "metadata": {
        "colab": {
          "base_uri": "https://localhost:8080/"
        },
        "id": "OWrnzhYPNlYF",
        "outputId": "b157d9ed-c1f2-476f-8fab-e741b20324f8"
      },
      "execution_count": 2,
      "outputs": [
        {
          "output_type": "stream",
          "name": "stdout",
          "text": [
            "[[ 1 27 96 10 90 92]\n",
            " [ 1 41 61  8 32 27]\n",
            " [98 73 64 31 17  5]\n",
            " [46 19 56 65  4 55]\n",
            " [86 17 52 14 12 55]]\n"
          ]
        }
      ]
    }
  ]
}