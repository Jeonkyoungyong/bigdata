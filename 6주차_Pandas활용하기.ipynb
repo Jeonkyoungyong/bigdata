{
  "nbformat": 4,
  "nbformat_minor": 0,
  "metadata": {
    "colab": {
      "provenance": [],
      "authorship_tag": "ABX9TyOOpGyOrDGJzMNy/j0PiVig",
      "include_colab_link": true
    },
    "kernelspec": {
      "name": "python3",
      "display_name": "Python 3"
    },
    "language_info": {
      "name": "python"
    }
  },
  "cells": [
    {
      "cell_type": "markdown",
      "metadata": {
        "id": "view-in-github",
        "colab_type": "text"
      },
      "source": [
        "<a href=\"https://colab.research.google.com/github/Jeonkyoungyong/bigdata/blob/main/6%EC%A3%BC%EC%B0%A8_Pandas%ED%99%9C%EC%9A%A9%ED%95%98%EA%B8%B0.ipynb\" target=\"_parent\"><img src=\"https://colab.research.google.com/assets/colab-badge.svg\" alt=\"Open In Colab\"/></a>"
      ]
    },
    {
      "cell_type": "code",
      "source": [
        "import pandas as pd\n",
        "import numpy as np\n",
        "\n",
        "path = 'https://github.com/dongupak/DataML/raw/main/csv/'\n",
        "file = path+'vehicle_prod.csv'\n",
        "df = pd.read_csv(file, index_col=0)\n",
        "print(df)"
      ],
      "metadata": {
        "colab": {
          "base_uri": "https://localhost:8080/"
        },
        "id": "oXVsUzWKfREb",
        "outputId": "6d479ced-3e92-4ed1-e5b4-1437b6c28fe3"
      },
      "execution_count": 7,
      "outputs": [
        {
          "output_type": "stream",
          "name": "stdout",
          "text": [
            "         2007   2008   2009   2010   2011\n",
            "China    7.71   7.95  11.96  15.84  16.33\n",
            "EU      19.02  17.71  15.00  16.70  17.48\n",
            "US      10.47   8.45   5.58   7.60   8.40\n",
            "Japan   10.87  10.83   7.55   9.09   7.88\n",
            "Korea    4.04   3.78   3.45   4.20   4.62\n",
            "Mexico   2.01   2.05   1.50   2.25   2.54\n"
          ]
        }
      ]
    },
    {
      "cell_type": "code",
      "execution_count": 9,
      "metadata": {
        "colab": {
          "base_uri": "https://localhost:8080/"
        },
        "id": "94CM1o9rdNTI",
        "outputId": "da116348-de97-47d1-b8f3-0c3d6108e5b9"
      },
      "outputs": [
        {
          "output_type": "stream",
          "name": "stdout",
          "text": [
            "          2007    2008   2009    2010    2011\n",
            "China     7.71    7.95  11.96   15.84   16.33\n",
            "EU       19.02   17.71  15.00   16.70   17.48\n",
            "US       10.47    8.45   5.58    7.60    8.40\n",
            "Japan    10.87   10.83   7.55    9.09    7.88\n",
            "Korea     4.04    3.78   3.45    4.20    4.62\n",
            "Mexico    2.01    2.05   1.50    2.25    2.54\n",
            "Total   108.24  101.54  90.08  111.36  114.50\n"
          ]
        }
      ],
      "source": [
        "df_sum = df.sum(axis=0)\n",
        "df.loc['Total'] = df_sum\n",
        "print(df)"
      ]
    },
    {
      "cell_type": "code",
      "source": [
        "df_mean = df.mean(axis=0)\n",
        "df_mean.name = 'Avg.'\n",
        "df.loc['Avg.'] = df_mean\n",
        "\n",
        "pd.options.display.precision = 2\n",
        "print(df)\n"
      ],
      "metadata": {
        "colab": {
          "base_uri": "https://localhost:8080/"
        },
        "id": "iD32uhe3e4rV",
        "outputId": "fc34ddd3-b5bf-4223-af74-659a71c74226"
      },
      "execution_count": 12,
      "outputs": [
        {
          "output_type": "stream",
          "name": "stdout",
          "text": [
            "         2007   2008   2009   2010   2011\n",
            "China    7.71   7.95  11.96  15.84  16.33\n",
            "EU      19.02  17.71  15.00  16.70  17.48\n",
            "US      10.47   8.45   5.58   7.60   8.40\n",
            "Japan   10.87  10.83   7.55   9.09   7.88\n",
            "Korea    4.04   3.78   3.45   4.20   4.62\n",
            "Mexico   2.01   2.05   1.50   2.25   2.54\n",
            "Total   23.19  21.76  19.30  23.86  24.54\n",
            "Avg.    11.04  10.36   9.19  11.36  11.68\n"
          ]
        }
      ]
    }
  ]
}