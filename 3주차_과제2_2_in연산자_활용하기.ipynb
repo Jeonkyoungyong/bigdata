{
  "nbformat": 4,
  "nbformat_minor": 0,
  "metadata": {
    "colab": {
      "provenance": [],
      "authorship_tag": "ABX9TyNFXuRyD7gcLpBQjMfx70k8",
      "include_colab_link": true
    },
    "kernelspec": {
      "name": "python3",
      "display_name": "Python 3"
    },
    "language_info": {
      "name": "python"
    }
  },
  "cells": [
    {
      "cell_type": "markdown",
      "metadata": {
        "id": "view-in-github",
        "colab_type": "text"
      },
      "source": [
        "<a href=\"https://colab.research.google.com/github/Jeonkyoungyong/bigdata/blob/main/3%EC%A3%BC%EC%B0%A8_%EA%B3%BC%EC%A0%9C2_2_in%EC%97%B0%EC%82%B0%EC%9E%90_%ED%99%9C%EC%9A%A9%ED%95%98%EA%B8%B0.ipynb\" target=\"_parent\"><img src=\"https://colab.research.google.com/assets/colab-badge.svg\" alt=\"Open In Colab\"/></a>"
      ]
    },
    {
      "cell_type": "code",
      "execution_count": 14,
      "metadata": {
        "colab": {
          "base_uri": "https://localhost:8080/"
        },
        "id": "MzFksxEfl2vd",
        "outputId": "60f01c29-70c0-4e18-8651-4c4bf7156c24"
      },
      "outputs": [
        {
          "output_type": "stream",
          "name": "stdout",
          "text": [
            "Americano        : 가격:3,000원\n",
            "Ice Americano    : 가격:3,500원\n",
            "Cappuccino       : 가격:4,000원\n",
            "Caffe Latte      : 가격:4,500원\n",
            "Espresso         : 가격:3,600원\n",
            "위의 메뉴중 하나를 선택하세요:쌍화차\n",
            "미안합니다.쌍화차는 메뉴에 없습니다\n"
          ]
        }
      ],
      "source": [
        "menu = {'Americano' : 3000, 'Ice Americano' : 3500, 'Cappuccino' : 4000, 'Caffe Latte' : 4500, 'Espresso' : 3600 }\n",
        "for key in menu :\n",
        "  print(\"{:16s} : 가격:{:,}원\". format(key, menu[key]))\n",
        "\n",
        "choice = input('위의 메뉴중 하나를 선택하세요:')\n",
        "if choice in menu.keys():\n",
        "  print('{}는{:,}원 입니다. 결제를 부탁합니다.'.format(choice, menu[choice]))\n",
        "else:\n",
        "  print('미안합니다.{}는 메뉴에 없습니다'.format(choice))\n"
      ]
    }
  ]
}