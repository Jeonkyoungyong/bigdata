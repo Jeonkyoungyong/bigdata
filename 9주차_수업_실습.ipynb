{
  "nbformat": 4,
  "nbformat_minor": 0,
  "metadata": {
    "colab": {
      "provenance": [],
      "mount_file_id": "17LOhefRlVdVdkaojgBp0Lfkg59180sSt",
      "authorship_tag": "ABX9TyP/xD4EsIGoHWV5IWMNPTsW",
      "include_colab_link": true
    },
    "kernelspec": {
      "name": "python3",
      "display_name": "Python 3"
    },
    "language_info": {
      "name": "python"
    }
  },
  "cells": [
    {
      "cell_type": "markdown",
      "metadata": {
        "id": "view-in-github",
        "colab_type": "text"
      },
      "source": [
        "<a href=\"https://colab.research.google.com/github/Jeonkyoungyong/bigdata/blob/main/9%EC%A3%BC%EC%B0%A8_%EC%88%98%EC%97%85_%EC%8B%A4%EC%8A%B5.ipynb\" target=\"_parent\"><img src=\"https://colab.research.google.com/assets/colab-badge.svg\" alt=\"Open In Colab\"/></a>"
      ]
    },
    {
      "cell_type": "code",
      "execution_count": 4,
      "metadata": {
        "colab": {
          "base_uri": "https://localhost:8080/"
        },
        "id": "fLTVLTxLgEgh",
        "outputId": "f33088ad-a177-4162-d183-7eb12806fb39"
      },
      "outputs": [
        {
          "output_type": "stream",
          "name": "stdout",
          "text": [
            "<class 'pandas.core.frame.DataFrame'>\n",
            "RangeIndex: 2 entries, 0 to 1\n",
            "Data columns (total 5 columns):\n",
            " #   Column   Non-Null Count  Dtype \n",
            "---  ------   --------------  ----- \n",
            " 0   id       2 non-null      int64 \n",
            " 1   name     2 non-null      object\n",
            " 2   email    2 non-null      object\n",
            " 3   phone    2 non-null      object\n",
            " 4   address  2 non-null      object\n",
            "dtypes: int64(1), object(4)\n",
            "memory usage: 208.0+ bytes\n",
            "None\n",
            "   id name             email             phone  \\\n",
            "0   1  홍길동  hong@example.com  +82-10-1234-5678   \n",
            "1   2  김철수   kim@example.com  +82-10-8765-4321   \n",
            "\n",
            "                             address  \n",
            "0  {'city': '서울', 'country': '대한민국'}  \n",
            "1  {'city': '부산', 'country': '대한민국'}  \n"
          ]
        }
      ],
      "source": [
        "import pandas as pd\n",
        "import json\n",
        "\n",
        "#Json 파일 경로\n",
        "jason_file_path = \"/content/drive/MyDrive/빅데이터 9주차/jsonData/custom.json\"\n",
        "\n",
        "#json 파일 읽기\n",
        "with open (jason_file_path, 'r', encoding='utf-8') as f:\n",
        "  json_data = json.load(f)\n",
        "\n",
        "#json 데이터를 pandas Dataframe으로 변환\n",
        "df = pd.DataFrame(json_data)\n",
        "\n",
        "# Dataframe 정보 출력\n",
        "print(df.info())\n",
        "\n",
        "#Dataframe 상위 5개 출력\n",
        "print(df.head())\n"
      ]
    },
    {
      "cell_type": "code",
      "source": [
        "#엑셀데이터\n",
        "\n",
        "import pandas as pd\n",
        "import xml.etree.ElementTree as ET\n",
        "\n",
        "#XML파일경로\n",
        "xml_file_path = \"/content/drive/MyDrive/빅데이터 9주차/xmlData/book.xml\"\n",
        "\n",
        "#XML 파일 읽기\n",
        "tree = ET.parse(xml_file_path)\n",
        "\n",
        "#루트요소 가져오기\n",
        "root = tree.getroot()\n",
        "\n",
        "#특정요소 목록 가져오기\n",
        "elements = root.findall('book')\n",
        "\n",
        "#dataframe 생성\n",
        "df = pd.DataFrame(columns=['title', 'author', 'price', 'genre'])\n",
        "\n",
        "#각ㅇ소를 Dataframe에 추가\n",
        "for element in elements:\n",
        "  row = {\n",
        "      'title' : element.find('title').text,\n",
        "      'author' : element.find('author').text,\n",
        "      'price' : float(element.find('price').text),\n",
        "      'genre' : element.find('genre').text,\n",
        "  }\n",
        "  new_df = pd.DataFrame([row], columns=df.columns)\n",
        "  df = pd.concat([df, new_df], ignore_index=True)\n",
        "\n",
        "  #DataFrame 정보 출력\n",
        "  print(df.info())\n",
        "\n",
        "  #DataFrame 상위 5개 행 출력\n",
        "  print(df.head())\n",
        "\n"
      ],
      "metadata": {
        "colab": {
          "base_uri": "https://localhost:8080/"
        },
        "id": "eFJR5fPy40dL",
        "outputId": "4e22425d-71e8-4f93-a72f-2c6f3bc92c4b"
      },
      "execution_count": 9,
      "outputs": [
        {
          "output_type": "stream",
          "name": "stdout",
          "text": [
            "<class 'pandas.core.frame.DataFrame'>\n",
            "RangeIndex: 1 entries, 0 to 0\n",
            "Data columns (total 4 columns):\n",
            " #   Column  Non-Null Count  Dtype  \n",
            "---  ------  --------------  -----  \n",
            " 0   title   1 non-null      object \n",
            " 1   author  1 non-null      object \n",
            " 2   price   1 non-null      float64\n",
            " 3   genre   1 non-null      object \n",
            "dtypes: float64(1), object(3)\n",
            "memory usage: 160.0+ bytes\n",
            "None\n",
            "                 title       author  price    genre\n",
            "0  Pride and Prejudice  Jane Austen  19.99  romance\n",
            "<class 'pandas.core.frame.DataFrame'>\n",
            "RangeIndex: 2 entries, 0 to 1\n",
            "Data columns (total 4 columns):\n",
            " #   Column  Non-Null Count  Dtype  \n",
            "---  ------  --------------  -----  \n",
            " 0   title   2 non-null      object \n",
            " 1   author  2 non-null      object \n",
            " 2   price   2 non-null      float64\n",
            " 3   genre   2 non-null      object \n",
            "dtypes: float64(1), object(3)\n",
            "memory usage: 192.0+ bytes\n",
            "None\n",
            "                   title       author  price    genre\n",
            "0    Pride and Prejudice  Jane Austen  19.99  romance\n",
            "1  To Kill a Mockingbird   Harper Lee  14.99  fiction\n",
            "<class 'pandas.core.frame.DataFrame'>\n",
            "RangeIndex: 3 entries, 0 to 2\n",
            "Data columns (total 4 columns):\n",
            " #   Column  Non-Null Count  Dtype  \n",
            "---  ------  --------------  -----  \n",
            " 0   title   3 non-null      object \n",
            " 1   author  3 non-null      object \n",
            " 2   price   3 non-null      float64\n",
            " 3   genre   3 non-null      object \n",
            "dtypes: float64(1), object(3)\n",
            "memory usage: 224.0+ bytes\n",
            "None\n",
            "                   title          author  price    genre\n",
            "0    Pride and Prejudice     Jane Austen  19.99  romance\n",
            "1  To Kill a Mockingbird      Harper Lee  14.99  fiction\n",
            "2  The Lord of the Rings  J.R.R. Tolkien  34.99  fantasy\n"
          ]
        }
      ]
    },
    {
      "cell_type": "markdown",
      "source": [],
      "metadata": {
        "id": "ToO737NA40So"
      }
    }
  ]
}