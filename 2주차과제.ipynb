{
  "nbformat": 4,
  "nbformat_minor": 0,
  "metadata": {
    "colab": {
      "provenance": [],
      "authorship_tag": "ABX9TyMsZRYs/AQQyu/4wRNBmOcz",
      "include_colab_link": true
    },
    "kernelspec": {
      "name": "python3",
      "display_name": "Python 3"
    },
    "language_info": {
      "name": "python"
    }
  },
  "cells": [
    {
      "cell_type": "markdown",
      "metadata": {
        "id": "view-in-github",
        "colab_type": "text"
      },
      "source": [
        "<a href=\"https://colab.research.google.com/github/Jeonkyoungyong/bigdata/blob/main/2%EC%A3%BC%EC%B0%A8%EA%B3%BC%EC%A0%9C.ipynb\" target=\"_parent\"><img src=\"https://colab.research.google.com/assets/colab-badge.svg\" alt=\"Open In Colab\"/></a>"
      ]
    },
    {
      "cell_type": "code",
      "execution_count": 4,
      "metadata": {
        "colab": {
          "base_uri": "https://localhost:8080/"
        },
        "id": "KJmwGj2N35TU",
        "outputId": "6de7ce12-fc05-43ec-df38-0ce077b00302"
      },
      "outputs": [
        {
          "output_type": "stream",
          "name": "stdout",
          "text": [
            "a= [2, 3, 4, 5, 6]\n",
            "rev_a =  [6]\n",
            "rev_a =  [6, 5]\n",
            "rev_a =  [6, 5, 4]\n",
            "rev_a =  [6, 5, 4, 3]\n",
            "rev_a =  [6, 5, 4, 3, 2]\n"
          ]
        }
      ],
      "source": [
        "X=[2,3,4,5,6]\n",
        "print('a=',X)\n",
        "\n",
        "rev_a=[]\n",
        "for i in range(len(X)):\n",
        "  rev_a.append(X.pop())\n",
        "\n",
        "  print('rev_a = ',rev_a)\n"
      ]
    }
  ]
}