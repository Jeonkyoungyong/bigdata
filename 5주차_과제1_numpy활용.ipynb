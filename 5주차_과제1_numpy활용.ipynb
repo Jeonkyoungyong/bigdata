{
  "nbformat": 4,
  "nbformat_minor": 0,
  "metadata": {
    "colab": {
      "provenance": [],
      "authorship_tag": "ABX9TyMkogzPNuOiPLUDKQqoF2CL",
      "include_colab_link": true
    },
    "kernelspec": {
      "name": "python3",
      "display_name": "Python 3"
    },
    "language_info": {
      "name": "python"
    }
  },
  "cells": [
    {
      "cell_type": "markdown",
      "metadata": {
        "id": "view-in-github",
        "colab_type": "text"
      },
      "source": [
        "<a href=\"https://colab.research.google.com/github/Jeonkyoungyong/bigdata/blob/main/5%EC%A3%BC%EC%B0%A8_%EA%B3%BC%EC%A0%9C1_numpy%ED%99%9C%EC%9A%A9.ipynb\" target=\"_parent\"><img src=\"https://colab.research.google.com/assets/colab-badge.svg\" alt=\"Open In Colab\"/></a>"
      ]
    },
    {
      "cell_type": "code",
      "source": [
        "import numpy as np\n",
        "\n",
        "a=np.arange(1, 46)\n",
        "np.random.shuffle(a)\n",
        "np.random.shuffle(b)\n",
        "np.random.shuffle(c)\n",
        "lotto1 = a[:6]\n",
        "lotto2 = b[:6]\n",
        "lotto3 = c[:6]\n",
        "\n",
        "print('lotto1 = ', lotto1)\n",
        "print('lotto2 = ', lotto2)\n",
        "print('lotto3 = ', lotto3)\n",
        "\n",
        "matrix = [lotto1,lotto2, lotto3]\n",
        "np.array(matrix, int).shape"
      ],
      "metadata": {
        "colab": {
          "base_uri": "https://localhost:8080/"
        },
        "id": "ybrSzyKALlab",
        "outputId": "3b0b4258-d5b7-4d0d-be0c-da2ad9a15c1d"
      },
      "execution_count": 20,
      "outputs": [
        {
          "output_type": "stream",
          "name": "stdout",
          "text": [
            "lotto1 =  [32 39 24 19 22 34]\n",
            "lotto2 =  [ 8 43 42 31 37  5]\n",
            "lotto3 =  [35 45  9 32 18 42]\n"
          ]
        },
        {
          "output_type": "execute_result",
          "data": {
            "text/plain": [
              "(3, 6)"
            ]
          },
          "metadata": {},
          "execution_count": 20
        }
      ]
    }
  ]
}