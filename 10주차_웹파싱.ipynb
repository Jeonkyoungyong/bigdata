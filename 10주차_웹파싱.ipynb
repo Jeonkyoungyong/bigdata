{
  "nbformat": 4,
  "nbformat_minor": 0,
  "metadata": {
    "colab": {
      "provenance": [],
      "mount_file_id": "1EpmlMjeGuoJhGPpWGEQpUeHAgPweXOmA",
      "authorship_tag": "ABX9TyOq4xlc99+zxsRFcN9paHPD",
      "include_colab_link": true
    },
    "kernelspec": {
      "name": "python3",
      "display_name": "Python 3"
    },
    "language_info": {
      "name": "python"
    }
  },
  "cells": [
    {
      "cell_type": "markdown",
      "metadata": {
        "id": "view-in-github",
        "colab_type": "text"
      },
      "source": [
        "<a href=\"https://colab.research.google.com/github/Jeonkyoungyong/bigdata/blob/main/10%EC%A3%BC%EC%B0%A8_%EC%9B%B9%ED%8C%8C%EC%8B%B1.ipynb\" target=\"_parent\"><img src=\"https://colab.research.google.com/assets/colab-badge.svg\" alt=\"Open In Colab\"/></a>"
      ]
    },
    {
      "cell_type": "code",
      "execution_count": 1,
      "metadata": {
        "colab": {
          "base_uri": "https://localhost:8080/"
        },
        "id": "3o_z6P7vMQPJ",
        "outputId": "4e58dd00-b6f1-4fd9-a955-109df1a800e4"
      },
      "outputs": [
        {
          "output_type": "stream",
          "name": "stdout",
          "text": [
            "#문자 2개로 시작하고, 숫자 3개로 끝나는 항목\n",
            "ab123 은(는) 조건에 적합\n",
            "cd456 은(는) 조건에 적합\n",
            "ef789 은(는) 조건에 적합\n",
            "abc12 은(는) 조건에 부적합\n",
            "적합한 항목들\n",
            "['ab123', 'cd456', 'ef789']\n"
          ]
        }
      ],
      "source": [
        "import re\n",
        "\n",
        "mylist = ['ab123', 'cd456', 'ef789', 'abc12']\n",
        "\n",
        "regex = '[a-z]{2}\\d{3}'\n",
        "pattern = re.compile(regex)\n",
        "\n",
        "print(\"#문자 2개로 시작하고, 숫자 3개로 끝나는 항목\")\n",
        "totallist = []\n",
        "for item in mylist :\n",
        "  if pattern.match(item) :\n",
        "    print(item, '은(는) 조건에 적합')\n",
        "    totallist.append(item)\n",
        "  else :\n",
        "    print(item, '은(는) 조건에 부적합')\n",
        "\n",
        "print('적합한 항목들')\n",
        "print(totallist)\n"
      ]
    },
    {
      "cell_type": "code",
      "source": [
        "#re 라이브러리\n",
        "\n",
        "import re\n",
        "\n",
        "text = \"안녕하세요, Python 프로그램밍 세계에 오신 것을 환영합니다!\"\n",
        "pattern = 'Python'\n",
        "\n",
        "if re.search(pattern, text):\n",
        "  print(\"텍스트에 'python이 포함되어 있습니다\")\n",
        "else:\n",
        "  print(\"텍스트에 'Python'이 포함되어 있지 않습니다\")\n",
        ""
      ],
      "metadata": {
        "colab": {
          "base_uri": "https://localhost:8080/"
        },
        "id": "S1aYbAMaQDIX",
        "outputId": "de9b9999-028d-4a81-f553-f8d22d289165"
      },
      "execution_count": 2,
      "outputs": [
        {
          "output_type": "stream",
          "name": "stdout",
          "text": [
            "텍스트에 'python이 포함되어 있습니다\n"
          ]
        }
      ]
    },
    {
      "cell_type": "code",
      "source": [
        "#이메일 주소 추출\n",
        "\n",
        "import re\n",
        "\n",
        "text = \"이메일 주소는 example@example.com입니다. 다른 이메일 주소는 test@test.com입니다.\"\n",
        "pattern = r\"[a-zA-Z0-9,+_-]+@[a-zA-Z0-9.-]+\\.[a-zA-Z]{2,}\"\n",
        "\n",
        "matches = re.findall(pattern, text)\n",
        "for match in matches:\n",
        "  print(match)\n",
        "\n"
      ],
      "metadata": {
        "colab": {
          "base_uri": "https://localhost:8080/"
        },
        "id": "wLKwfVeeQ5ys",
        "outputId": "6107a4e3-6a07-4873-d1b2-8a0cca722961"
      },
      "execution_count": 3,
      "outputs": [
        {
          "output_type": "stream",
          "name": "stdout",
          "text": [
            "example@example.com\n",
            "test@test.com\n"
          ]
        }
      ]
    },
    {
      "cell_type": "code",
      "source": [
        "# 숫자만 추출\n",
        "\n",
        "import re\n",
        "\n",
        "text = \"제품 가격은 10,000원 입니다. 할인 가격은 8,000원 입니다.\"\n",
        "pattern = r\"\\d+\"\n",
        "\n",
        "matches = re.findall(pattern, text)\n",
        "for match in matches :\n",
        "  print(match)"
      ],
      "metadata": {
        "colab": {
          "base_uri": "https://localhost:8080/"
        },
        "id": "E9uZ2VmfR2GM",
        "outputId": "c6bf9611-24e0-4d08-dde2-66c4d0a5bdcd"
      },
      "execution_count": 4,
      "outputs": [
        {
          "output_type": "stream",
          "name": "stdout",
          "text": [
            "10\n",
            "000\n",
            "8\n",
            "000\n"
          ]
        }
      ]
    },
    {
      "cell_type": "code",
      "source": [
        "#BeautifulSoup 활용한 웹 크롤링\n",
        "\n",
        "from bs4 import BeautifulSoup\n",
        "html = open(\"/content/sample_data/fruits.html\", \"r\", encoding=\"utf-8\")\n",
        "soup = BeautifulSoup(html, \"html.parser\")\n",
        "body = soup.select_one(\"body\")\n",
        "ptag = body.find('p')\n",
        "print('1번째 p태그 : ', ptag['class'])\n"
      ],
      "metadata": {
        "colab": {
          "base_uri": "https://localhost:8080/"
        },
        "id": "9OjJEFdTWLsY",
        "outputId": "684816ba-9253-4001-b5fc-03deaff9d1f4"
      },
      "execution_count": 8,
      "outputs": [
        {
          "output_type": "stream",
          "name": "stdout",
          "text": [
            "1번째 p태그 :  ['ptag', 'red']\n"
          ]
        }
      ]
    },
    {
      "cell_type": "code",
      "source": [
        "#BeautifulSoup 활용한 웹 크롤링_태그 속성 다루기\n",
        "\n",
        "ptag['class'][1] = 'white'\n",
        "\n",
        "#red가 white로 바뀐다.\n",
        "print('1번째 p태그 : ', ptag['class'])\n",
        "\n",
        "ptag['id']= 'apple'\n",
        "print('1번째 p태그의 id 속성 : ', ptag['id'])\n"
      ],
      "metadata": {
        "colab": {
          "base_uri": "https://localhost:8080/"
        },
        "id": "WnZSffEfX4tO",
        "outputId": "a49af100-355a-46b1-a87a-bbadeb997b91"
      },
      "execution_count": 9,
      "outputs": [
        {
          "output_type": "stream",
          "name": "stdout",
          "text": [
            "1번째 p태그 :  ['ptag', 'white']\n",
            "1번째 p태그의 id 속성 :  apple\n"
          ]
        }
      ]
    },
    {
      "cell_type": "code",
      "source": [
        "#HTML문서 이해하기_body태그\n",
        "\n",
        "body_tag = soup.find('body')\n",
        "print(body_tag)"
      ],
      "metadata": {
        "colab": {
          "base_uri": "https://localhost:8080/"
        },
        "id": "lNDswA_Sjyl9",
        "outputId": "b12aa070-1951-4838-fc7d-9fd845a648c9"
      },
      "execution_count": 10,
      "outputs": [
        {
          "output_type": "stream",
          "name": "stdout",
          "text": [
            "<body>\n",
            "<p align=\"center\" class=\"ptag white\" id=\"apple\">사과</p>\n",
            "<p align=\"center\" class=\"ptag yellow\">참외</p>\n",
            "<p align=\"center\" class=\"ptag blue\">블루베리</p>\n",
            "<div id=\"container\">\n",
            "<p class=\"hard\">과일</p>\n",
            "</div>\n",
            "</body>\n"
          ]
        }
      ]
    },
    {
      "cell_type": "code",
      "source": [
        "#HTML 문서이해하기_children 속성\n",
        "\n",
        "idx = 0\n",
        "print('children 속성으로 하위 항목 보기')\n",
        "print('white character 문자까지 포함됨')\n",
        "for child in body_tag.children:\n",
        "  idx += 1\n",
        "  print(str(idx) + '번째 요소 :', child)"
      ],
      "metadata": {
        "colab": {
          "base_uri": "https://localhost:8080/"
        },
        "id": "A60o7CfCkdTn",
        "outputId": "a3d98558-9fca-43c9-88e2-b665a4bf5b73"
      },
      "execution_count": 11,
      "outputs": [
        {
          "output_type": "stream",
          "name": "stdout",
          "text": [
            "children 속성으로 하위 항목 보기\n",
            "white character 문자까지 포함됨\n",
            "1번째 요소 : \n",
            "\n",
            "2번째 요소 : <p align=\"center\" class=\"ptag white\" id=\"apple\">사과</p>\n",
            "3번째 요소 : \n",
            "\n",
            "4번째 요소 : <p align=\"center\" class=\"ptag yellow\">참외</p>\n",
            "5번째 요소 : \n",
            "\n",
            "6번째 요소 : <p align=\"center\" class=\"ptag blue\">블루베리</p>\n",
            "7번째 요소 : \n",
            "\n",
            "8번째 요소 : <div id=\"container\">\n",
            "<p class=\"hard\">과일</p>\n",
            "</div>\n",
            "9번째 요소 : \n",
            "\n"
          ]
        }
      ]
    },
    {
      "cell_type": "code",
      "source": [
        "# HTML 문서 이해하기_ find\n",
        "\n",
        "mydiv = soup.find(\"div\")\n",
        "print(mydiv)\n"
      ],
      "metadata": {
        "colab": {
          "base_uri": "https://localhost:8080/"
        },
        "id": "pHgEPufSmdi8",
        "outputId": "d0e38b0c-838a-46ab-b87a-d365e44a0dc8"
      },
      "execution_count": 12,
      "outputs": [
        {
          "output_type": "stream",
          "name": "stdout",
          "text": [
            "<div id=\"container\">\n",
            "<p class=\"hard\">과일</p>\n",
            "</div>\n"
          ]
        }
      ]
    },
    {
      "cell_type": "code",
      "source": [
        "#HTML 문서 이해하기_div\n",
        "\n",
        "print('div 태그의 부모 태그는?')\n",
        "print(mydiv.parent)"
      ],
      "metadata": {
        "colab": {
          "base_uri": "https://localhost:8080/"
        },
        "id": "p7h8FUuFnIIN",
        "outputId": "178b5157-8441-4099-acc1-bc2717b4af91"
      },
      "execution_count": 14,
      "outputs": [
        {
          "output_type": "stream",
          "name": "stdout",
          "text": [
            "div 태그의 부모 태그는?\n",
            "<body>\n",
            "<p align=\"center\" class=\"ptag white\" id=\"apple\">사과</p>\n",
            "<p align=\"center\" class=\"ptag yellow\">참외</p>\n",
            "<p align=\"center\" class=\"ptag blue\">블루베리</p>\n",
            "<div id=\"container\">\n",
            "<p class=\"hard\">과일</p>\n",
            "</div>\n",
            "</body>\n"
          ]
        }
      ]
    },
    {
      "cell_type": "code",
      "source": [
        "#HTML 문서 이해하기_find() 함수\n",
        "\n",
        "mytag = soup.find(\"p\", attrs={'class':'hard'})\n",
        "print(mytag)"
      ],
      "metadata": {
        "colab": {
          "base_uri": "https://localhost:8080/"
        },
        "id": "gUsAOCx9nhki",
        "outputId": "85f26417-08c0-4e96-e79b-0b419c1e774f"
      },
      "execution_count": 15,
      "outputs": [
        {
          "output_type": "stream",
          "name": "stdout",
          "text": [
            "<p class=\"hard\">과일</p>\n"
          ]
        }
      ]
    },
    {
      "cell_type": "code",
      "source": [
        "print('mytag 태그의 부모 태그는?')\n",
        "print(mytag.find_parent())"
      ],
      "metadata": {
        "colab": {
          "base_uri": "https://localhost:8080/"
        },
        "id": "3DasvhsBnz8x",
        "outputId": "71782c0a-8f91-483f-93eb-3bf18bf33cf5"
      },
      "execution_count": 16,
      "outputs": [
        {
          "output_type": "stream",
          "name": "stdout",
          "text": [
            "mytag 태그의 부모 태그는?\n",
            "<div id=\"container\">\n",
            "<p class=\"hard\">과일</p>\n",
            "</div>\n"
          ]
        }
      ]
    },
    {
      "cell_type": "code",
      "source": [
        "#HTML 문서 이해하기_find_parents()\n",
        "print('mytag 태그의 모든 상위 부모 태그들의 이름')\n",
        "parents = mytag.find_parents()\n",
        "for p in parents :\n",
        "  print(p.name)"
      ],
      "metadata": {
        "colab": {
          "base_uri": "https://localhost:8080/"
        },
        "id": "XsiY7tcvofkG",
        "outputId": "c59afa54-fc4a-4335-8612-c09894e5b8d3"
      },
      "execution_count": 17,
      "outputs": [
        {
          "output_type": "stream",
          "name": "stdout",
          "text": [
            "mytag 태그의 모든 상위 부모 태그들의 이름\n",
            "div\n",
            "body\n",
            "html\n",
            "[document]\n"
          ]
        }
      ]
    },
    {
      "cell_type": "code",
      "source": [
        "#HTML 문서 이해하기 _ 선택자(Selector)\n",
        "\n",
        "import re\n",
        "from bs4 import BeautifulSoup\n",
        "myencoding = 'utf-8'\n",
        "myparser = 'html.parser'\n",
        "filename = 'ccs01.html'\n",
        "\n",
        "html = open(\"/content/sample_data/css01.html\", encoding=myencoding)\n",
        "soup = BeautifulSoup(html, myparser)\n",
        "\n",
        "h1 = soup.select_one(\"div#cartoon > h1\"). string\n",
        "print(\"h1 =\", h1)\n",
        "\n",
        "li_list = soup.select(\"div#cartoon > ul.elements > li\")\n",
        "for li in li_list:\n",
        "  print(\"li =\", li.string)\n"
      ],
      "metadata": {
        "colab": {
          "base_uri": "https://localhost:8080/"
        },
        "id": "ZXvx1d0Yq0yO",
        "outputId": "bb03f6b8-b9d0-46bf-a705-086712b5c8a0"
      },
      "execution_count": 19,
      "outputs": [
        {
          "output_type": "stream",
          "name": "stdout",
          "text": [
            "h1 = 좋아하는 만화\n",
            "li = 피구왕 통키\n",
            "li = 미래 소년 코난\n",
            "li = 로보트 태권 브이\n"
          ]
        }
      ]
    },
    {
      "cell_type": "code",
      "source": [
        "#HTML 문서 이해하기_선택자(selector)_lambda 함수\n",
        "\n",
        "choice = lambda x : print(soup.select_one(x).string)\n",
        "\n",
        "print('\\nchoice(\"#item5\") : ', end='')\n",
        "choice(\"#item5\")\n",
        "\n",
        "print('\\nchoice(\"li#item4\") : ', end='')\n",
        "choice(\"li#item4\")\n",
        "\n",
        "print('\\nchoice(\"ul > li#item3\") : ', end='')\n",
        "choice(\"ul > li#item3\")\n",
        "\n",
        "print('\\nchoice(\"#itemlist #item2\") : ', end='')\n",
        "choice(\"#itemlist #item2\")\n",
        "\n",
        "print('\\nchoice(\"#itemlist > #item3\") : ', end='')\n",
        "choice(\"#itemlist > #item3\")\n",
        "\n",
        "print('\\nchoice(\"ul#itemlist > li#item2\") : ', end='')\n",
        "choice(\"ul#itemlist > li#item2\")\n",
        "\n",
        "print('\\nchoice(\"li[id=\\'item1\\']\") : ', end='')\n",
        "choice(\"li[id='item1']\")\n",
        "\n",
        "print('\\nchoice(\"li:nth-of-type(4)\") : ', end='')\n",
        "choice(\"li:nth-of-type(4)\")\n"
      ],
      "metadata": {
        "colab": {
          "base_uri": "https://localhost:8080/"
        },
        "id": "AAuTC9yhtTSO",
        "outputId": "83371179-19a2-4424-cde1-6bd9fee87fc7"
      },
      "execution_count": 24,
      "outputs": [
        {
          "output_type": "stream",
          "name": "stdout",
          "text": [
            "\n",
            "choice(\"#item5\") : 똘이 장군\n",
            "\n",
            "choice(\"li#item4\") : 들장미 소녀 캔디\n",
            "\n",
            "choice(\"ul > li#item3\") : 로보트 태권 V\n",
            "\n",
            "choice(\"#itemlist #item2\") : 그랜다이저\n",
            "\n",
            "choice(\"#itemlist > #item3\") : 로보트 태권 V\n",
            "\n",
            "choice(\"ul#itemlist > li#item2\") : 그랜다이저\n",
            "\n",
            "choice(\"li[id='item1']\") : 피구왕 통키\n",
            "\n",
            "choice(\"li:nth-of-type(4)\") : 들장미 소녀 캔디\n"
          ]
        }
      ]
    },
    {
      "cell_type": "code",
      "source": [
        "#HTML 문서 이해하기_선택자(selector)_indexing\n",
        "print('nsoup.select(\"li\")[1].string : ', end='')\n",
        "print(soup.select(\"li\")[1].string)\n",
        "\n",
        "print('\\nsoup.find_all(\"li\")[3].string : ', end='')\n",
        "print(soup.find_all(\"li\")[3].string)"
      ],
      "metadata": {
        "colab": {
          "base_uri": "https://localhost:8080/"
        },
        "id": "I4zVlKTaxA3G",
        "outputId": "5e991764-d86a-4cd2-f323-b606b1a0c447"
      },
      "execution_count": 25,
      "outputs": [
        {
          "output_type": "stream",
          "name": "stdout",
          "text": [
            "nsoup.select(\"li\")[1].string : 미래 소년 코난\n",
            "\n",
            "soup.find_all(\"li\")[3].string : 피구왕 통키\n"
          ]
        }
      ]
    },
    {
      "cell_type": "code",
      "source": [
        "#HTML 문서 이해하기_선택자(selector)_nth-of-type(su)\n",
        "mytag = soup.select_one('div#cartoon > ul.elements')\n",
        "mystring = mytag.select_one('li:nth-of-type(3)').string\n",
        "print(mystring)\n",
        "\n",
        "print('-'*20)\n",
        "\n",
        "mytag = soup.select_one('ul#itemlist')\n",
        "mystring = mytag.select_one('li:nth-of-type(4)').string\n",
        "print(mystring)"
      ],
      "metadata": {
        "colab": {
          "base_uri": "https://localhost:8080/"
        },
        "id": "zBdGlvZOyoZL",
        "outputId": "52f7bec5-8441-4068-95a6-7d4952ec03da"
      },
      "execution_count": 26,
      "outputs": [
        {
          "output_type": "stream",
          "name": "stdout",
          "text": [
            "로보트 태권 브이\n",
            "--------------------\n",
            "들장미 소녀 캔디\n"
          ]
        }
      ]
    },
    {
      "cell_type": "code",
      "source": [
        "#HTML 문서 이해하기_선택자(selector)_id속성인 vegatables\n",
        "#class 속성이 us인 1번째 요소\n",
        "\n",
        "print(soup.select(\"#vegatables > li[class='us']\")[0].string)\n",
        "print(soup.select(\"#vegatables > li.us\")[1].string)"
      ],
      "metadata": {
        "colab": {
          "base_uri": "https://localhost:8080/"
        },
        "id": "wWhSB55MzYbm",
        "outputId": "dac6ef72-0a42-4b8f-a99d-782cf197c3e3"
      },
      "execution_count": 27,
      "outputs": [
        {
          "output_type": "stream",
          "name": "stdout",
          "text": [
            "당근\n",
            "호박\n"
          ]
        }
      ]
    },
    {
      "cell_type": "code",
      "source": [
        "#HTML 문서 이해하기_선택자(selector)_^=, $=, *=\n",
        "# ^= : ~으로 시작하는, $= : ~으로 끝나는\n",
        "\n",
        "result = soup.select('a[href$=\".com\"]')\n",
        "for item in result :\n",
        "  print(item['href'])\n",
        "\n",
        "# *= : daum을 포함하고 있는\n",
        "result = soup.select('a[href*=\"daum\"]')\n",
        "for item in result :\n",
        "  print(item['href'])"
      ],
      "metadata": {
        "colab": {
          "base_uri": "https://localhost:8080/"
        },
        "id": "3_gwGFuT3LG6",
        "outputId": "dbb51fae-853d-45c2-d2f6-3056eb822308"
      },
      "execution_count": 33,
      "outputs": [
        {
          "output_type": "stream",
          "name": "stdout",
          "text": [
            "https://www.naver.com\n",
            "http://www.google.com\n",
            "http://www.abcd.com\n",
            "https://www.daum.net\n"
          ]
        }
      ]
    },
    {
      "cell_type": "code",
      "source": [
        "#find 메서드 추출하기\n",
        "cond = {\"id\":\"ko\", \"class\":\"cn\"}\n",
        "print(soup.find(\"li\", cond).string)\n",
        "\n",
        "#find 메서드를 연속적으로 사용하기\n",
        "print(soup.find(id=\"vegatables\").find(\"li\", cond).string)"
      ],
      "metadata": {
        "colab": {
          "base_uri": "https://localhost:8080/"
        },
        "id": "Uo5Ou4Qf4u0x",
        "outputId": "3266395e-85b1-4c27-b633-add0c156a069"
      },
      "execution_count": 35,
      "outputs": [
        {
          "output_type": "stream",
          "name": "stdout",
          "text": [
            "가지\n",
            "가지\n"
          ]
        }
      ]
    },
    {
      "cell_type": "code",
      "source": [
        "#HTML 문서 이해하기_선택자(selector)_정규 표현식\n",
        "print('# 정규 표현식으로 href에서 https인것 추출하기')\n",
        "li = soup.find_all(href=re.compile(r\"^https://\"))\n",
        "\n",
        "for e in li:\n",
        "  print(e.attrs['href'])\n",
        "\n",
        "print('\\n# finished')"
      ],
      "metadata": {
        "colab": {
          "base_uri": "https://localhost:8080/"
        },
        "id": "5jg5dqxA5QNJ",
        "outputId": "bf5d32df-3371-4948-dd73-a749ad4cb506"
      },
      "execution_count": 36,
      "outputs": [
        {
          "output_type": "stream",
          "name": "stdout",
          "text": [
            "# 정규 표현식으로 href에서 https인것 추출하기\n",
            "https://www.naver.com\n",
            "https://www.daum.net\n",
            "\n",
            "# finished\n"
          ]
        }
      ]
    }
  ]
}